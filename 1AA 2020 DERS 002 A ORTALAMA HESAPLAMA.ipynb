{
 "cells": [
  {
   "cell_type": "code",
   "execution_count": 25,
   "metadata": {},
   "outputs": [
    {
     "name": "stdout",
     "output_type": "stream",
     "text": [
      "1. yazılı notunu giriniz:85\n",
      "2. yazılı notunu giriniz:85\n",
      "3. yazılı notunu giriniz:85\n",
      "    Sözlü notunu giriniz:85\n",
      "Not toplamı: 340 \\ Ortalama: 85.0\n",
      "\n",
      "Geçme notu : ÇOK İYİ derece ile geçtiniz\n"
     ]
    }
   ],
   "source": [
    "\"\"\"\n",
    "girişe dört sayı giriyoruz.\n",
    "ilk üç yazılı notunu ve 4 üncü sayı sözlü notunu toplayacak,\n",
    "sonucu dörde bölerek ortalamayı bulacağız.\n",
    "\n",
    "a,b,c ve d sayılarını toplatıp 4 e bölelim\n",
    "\n",
    "\"\"\"\n",
    "\n",
    "a = int(input(\"1. yazılı notunu giriniz:\"))\n",
    "b = int(input(\"2. yazılı notunu giriniz:\"))\n",
    "c = int(input(\"3. yazılı notunu giriniz:\"))\n",
    "d = int(input(\"    Sözlü notunu giriniz:\"))\n",
    "\n",
    "toplam = a + b + c + d\n",
    "\n",
    "ortalama = toplam / 4\n",
    "\n",
    "print(\"Not toplamı: {} \\ Ortalama: {}\\n\".format(toplam,ortalama))\n",
    "\n",
    "if ortalama >= 85: print(\"Geçme notu : ÇOK İYİ derece ile geçtiniz\")\n",
    "elif ortalama >= 70: print(\"Geçme notu : İYİ derece ile geçtiniz\")\n",
    "elif ortalama >= 50: print(\"Geçme notu : ORTA derece ile geçtiniz\")\n",
    "else: print(\"Geçme notu : ZAYIF derece ile kaldınız\")"
   ]
  },
  {
   "cell_type": "code",
   "execution_count": null,
   "metadata": {},
   "outputs": [],
   "source": []
  }
 ],
 "metadata": {
  "kernelspec": {
   "display_name": "Python 3",
   "language": "python",
   "name": "python3"
  },
  "language_info": {
   "codemirror_mode": {
    "name": "ipython",
    "version": 3
   },
   "file_extension": ".py",
   "mimetype": "text/x-python",
   "name": "python",
   "nbconvert_exporter": "python",
   "pygments_lexer": "ipython3",
   "version": "3.7.3"
  }
 },
 "nbformat": 4,
 "nbformat_minor": 2
}
